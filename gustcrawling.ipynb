{
 "cells": [
  {
   "cell_type": "code",
   "execution_count": 136,
   "metadata": {},
   "outputs": [
    {
     "name": "stdout",
     "output_type": "stream",
     "text": [
      "<!DOCTYPE html>\n",
      "<html>\n",
      "<head>\n",
      "<!-- /Generic -->\n",
      "<meta content='INTERNET OF ARTISTS LTD' property='og:title'>\n",
      "<meta content='Gust' property='og:site_name'>\n",
      "<meta content='https://gust.com/companies/internet-of-artists-ltd' property='og:url'>\n",
      "<meta content='https://gust-production.s3.amazonaws.com/uploads/startup/logo_image/772339/Internet_20of_20Artist_20dark_20red.jpg' property='og:image'>\n",
      "<meta content='We developed MyMVision (My Music Vision): the app that brings together and helps musicians along their journey, from the cradle to the stage. And beyond.' property='og:description'>\n",
      "<!-- /Twitter -->\n",
      "<meta content='summary' name='twitter:card'>\n",
      "<meta content='@gustly' name='twitter:site'>\n",
      "<meta content='We developed MyMVision (My Music Vision): the app that brings together and helps musicians along their journey, from the cradle to the stage. And beyond.' name='twitter:description'>\n",
      "<meta content='https://gust-production.s3.amazonaws.com/uploads/startup/logo_image/772339/Internet_20of_20Artist_20dark_20red.jpg' name='twitter:image'>\n",
      "\n",
      "<script>\n",
      "  window.com = window.com || { };\n",
      "  window.com.gust = window.com.gust || { };\n",
      "  window.com.gust.env = \"production\";\n",
      "</script>\n",
      "<script src=\"https://gust.com/assets/application-73d0b30be9dde873968270855c1454a0.js\"></script>\n",
      "<script>\n",
      "  com.gust.presenters.FormDocumentUploader.documentIconClasses = [\"doc\", \"docx\", \"pdf\", \"ppt\", \"pptx\", \"xls\", \"xlsx\", \"jpg\", \"JPG\", \"png\", \"PNG\", \"txt\", \"mov\", \"mp4\"];\n",
      "  com.gust.presenters.CurrencySymbolUpdater.codeToSymbolMap = {\"AED\":null,\"AFN\":\"؋\",\"ALL\":\"LEK\",\"AMD\":null,\"ANG\":\"ƒ\",\"AOA\":null,\"ARS\":\"$\",\"AUD\":\"$\",\"AWG\":\"ƒ\",\"AZN\":\"ман\",\"BAM\":\"KM\",\"BBD\":\"$\",\"BDT\":null,\"BGN\":\"лв\",\"BHD\":null,\"BIF\":null,\"BMD\":\"$\",\"BND\":\"$\",\"BOB\":\"$b\",\"BRL\":\"R$\",\"BSD\":\"$\",\"BTN\":null,\"BWP\":\"P\",\"BYR\":\"p.\",\"BZD\":\"BZ$\",\"CAD\":\"$\",\"CDF\":null,\"CHF\":\"CHF\",\"CLP\":\"$\",\"CNY\":\"¥\",\"COP\":\"$\",\"CRC\":\"₡\",\"CUC\":\"CUC$\",\"CUP\":\"₱\",\"CVE\":null,\"CZK\":\"Kč\",\"DJF\":null,\"DKK\":\"kr\",\"DOP\":\"RD$\",\"DZD\":null,\"EEK\":\"kr\",\"EGP\":\"£\",\"ETB\":null,\"EUR\":\"€\",\"FJD\":null,\"FKP\":\"£\",\"GBP\":\"£\",\"GEL\":null,\"GGP\":\"£\",\"GHS\":\"¢\",\"GIP\":\"£\",\"GMD\":null,\"GNF\":null,\"GTQ\":\"Q\",\"GYD\":null,\"HKD\":\"$\",\"HNL\":\"L\",\"HRK\":\"kn\",\"HTG\":null,\"HUF\":\"Ft\",\"IDR\":\"Rp\",\"ILS\":\"₪\",\"IMP\":\"£\",\"INR\":\"₨\",\"IQD\":null,\"IRR\":\"﷼\",\"ISK\":\"kr\",\"JEP\":\"£\",\"JMD\":null,\"JOD\":null,\"JPY\":\"¥\",\"KES\":\"KSh\",\"KGS\":\"лв\",\"KHR\":null,\"KMF\":null,\"KPW\":\"₩\",\"KRW\":\"₩\",\"KWD\":null,\"KYD\":\"$\",\"KZT\":\"лв\",\"LAK\":\"₭\",\"LBP\":\"£\",\"LKR\":\"₨\",\"LRD\":\"$\",\"LSL\":null,\"LTL\":\"Lt\",\"LVL\":\"Ls\",\"LYD\":null,\"MAD\":null,\"MDL\":null,\"MGA\":null,\"MKD\":null,\"MMK\":null,\"MNK\":null,\"MNT\":\"₮\",\"MRO\":null,\"MUR\":\"₨\",\"MVR\":null,\"MWK\":null,\"MXN\":\"$\",\"MYR\":\"RM\",\"MZN\":\"MT\",\"NAD\":\"$\",\"NGN\":\"₦\",\"NIO\":\"C$\",\"NOK\":\"kr\",\"NPR\":\"₨\",\"NZD\":\"$\",\"OMR\":\"﷼\",\"PAB\":\"B/.\",\"PEN\":\"S/.\",\"PGK\":null,\"PHP\":\"Php\",\"PKR\":\"₨\",\"PLN\":\"zł\",\"PYG\":\"Gs\",\"QAR\":\"﷼\",\"RON\":\"lei\",\"RSD\":\"Дин.\",\"RUB\":\"руб\",\"RWF\":null,\"SAR\":\"﷼\",\"SBD\":\"$\",\"SCR\":\"₨\",\"SDG\":null,\"SEK\":\"kr\",\"SGD\":\"$\",\"SHP\":\"£\",\"SLL\":null,\"SOS\":\"S\",\"SRD\":\"$\",\"STD\":null,\"SVC\":null,\"SYP\":\"£\",\"SZL\":null,\"THB\":\"฿\",\"TJS\":null,\"TMM\":null,\"TND\":null,\"TOP\":null,\"TRY\":\"TL\",\"TTD\":\"$\",\"TVD\":null,\"TWD\":\"NT$\",\"TZS\":null,\"UAH\":\"₴\",\"UGX\":null,\"USD\":\"$\",\"UYU\":\"$U\",\"UZS\":\"лв\",\"VEF\":\"Bs\",\"VND\":\"₫\",\"WST\":\"WS$\",\"XAF\":null,\"XCD\":\"$\",\"XOF\":null,\"XPF\":null,\"YER\":\"﷼\",\"ZAR\":\"R\",\"ZMK\":null,\"ZWD\":\"Z$\"}\n",
      "</script>\n",
      "<meta charset='utf-8'>\n",
      "<meta content='IE=edge,chrome=1' http-equiv='X-UA-Compatible'>\n",
      "<meta content='no-cache' http-equiv='Cache-Control'>\n",
      "<meta content='width=device-width, initial-scale=1, maximum-scale=1' name='viewport'>\n",
      "<link rel=\"stylesheet\" media=\"all\" href=\"https://gust.com/assets/application-0c2a90feefe60c5c05073d5f829e3f39.css\" />\n",
      "<link rel=\"stylesheet\" media=\"all\" href=\"https://gust.com/assets/rich_text-579110810751982917d6d43ff6cd37f0.css\" />\n",
      "<meta content='Find investment information and connect with INTERNET OF ARTISTS LTD, a London, United Kingdom based Media and Entertainment startup.' name='description'>\n",
      "<meta content='find London, United Kingdom startup Media and Entertainment INTERNET OF ARTISTS LTD' name='keywords'>\n",
      "<link rel=\"shortcut icon\" type=\"image/x-icon\" href=\"https://gust.com/assets/favicon-1a69a6a0c618fa773e0f2b4a6840c6a0.ico\" />\n",
      "<meta name=\"csrf-param\" content=\"authenticity_token\" />\n",
      "<meta name=\"csrf-token\" content=\"dualNVzn4zkOlZzafoFI3+BADWZp+Epj6AnkciRCfFhBmgEqBevIXmN8ow36P6KUTwDuZEB9+NQRzt1W2irQkg==\" />\n",
      "<title>INTERNET OF ARTISTS LTD | London, United Kingdom Startup </title>\n",
      "\n",
      "<script src='https://use.typekit.net/dmc8abo.js'></script>\n",
      "<script>\n",
      "  try{Typekit.load({ async: false });}catch(e){}\n",
      "</script>\n",
      "<link href='https://fonts.googleapis.com/css?family=Open+Sans:400,300,300italic,400italic,600,600italic,700italic,700&amp;subset=latin,cyrillic-ext,cyrillic' rel='stylesheet' type='text/css'>\n",
      "\n",
      "<script>\n",
      "  I18n.locale = 'en';\n",
      "</script>\n",
      "\n",
      "\n",
      "<script>\n",
      "  var gaParams = '{\"cookieDomain\":\"gust.com\"}';\n",
      "  var pageViewParams = '{\"dimension1\":\"No\",\"dimension2\":\"No\",\"dimension3\":null,\"dimension7\":null}';\n",
      "  \n",
      "  (function(i,s,o,g,r,a,m){i['GoogleAnalyticsObject']=r;i[r]=i[r]||function(){\n",
      "  (i[r].q=i[r].q\n"
     ]
    }
   ],
   "source": [
    "from requests import get\n",
    "url = 'https://gust.com/companies/internet-of-artists-ltd'\n",
    "response = get(url)\n",
    "#print(response.text[:5000])"
   ]
  },
  {
   "cell_type": "code",
   "execution_count": 137,
   "metadata": {},
   "outputs": [
    {
     "name": "stdout",
     "output_type": "stream",
     "text": [
      "<class 'bs4.BeautifulSoup'>\n"
     ]
    }
   ],
   "source": [
    "from bs4 import BeautifulSoup\n",
    "import urllib\n",
    "\n",
    "import urllib.request\n",
    "with urllib.request.urlopen('https://gust.com/companies/internet-of-artists-ltd') as response:\n",
    "   html = response.read()\n",
    "soup = BeautifulSoup(html,\"lxml\")\n",
    "print(type(soup))"
   ]
  },
  {
   "cell_type": "code",
   "execution_count": 138,
   "metadata": {
    "collapsed": true
   },
   "outputs": [],
   "source": [
    "letters = soup.find_all(\"div\", class_=\"main-content-container\")"
   ]
  },
  {
   "cell_type": "code",
   "execution_count": 144,
   "metadata": {},
   "outputs": [],
   "source": [
    "name= soup.find('h2',attrs={'class':'text-center'})\n",
    "details = soup.find_all(\"span\", class_=\"value ellipsis pull-right\")\n",
    "web=soup.find_all(\"span\", class_=\"value value--fixed-width ellipsis\")"
   ]
  },
  {
   "cell_type": "code",
   "execution_count": 140,
   "metadata": {
    "collapsed": true
   },
   "outputs": [],
   "source": [
    "import urllib\n",
    "from requests import get"
   ]
  },
  {
   "cell_type": "code",
   "execution_count": 145,
   "metadata": {},
   "outputs": [],
   "source": [
    "companynames=[]\n",
    "line = name.get_text().replace('\\n','')\n",
    "companynames.append(line)\n",
    "#print(companynames)\n",
    "#print(web[0].a[\"href\"])"
   ]
  },
  {
   "cell_type": "code",
   "execution_count": 142,
   "metadata": {},
   "outputs": [
    {
     "name": "stdout",
     "output_type": "stream",
     "text": [
      "{'INTERNET OF ARTISTS LTD': {'Stage': 'Full Product Ready', 'Industry': 'Media and Entertainment', 'Location': 'London, United Kingdom', 'Currency': 'GBP', 'Founded': 'September 2015', 'Employees': '2', 'Incorporation Type': 'Other'}}\n"
     ]
    }
   ],
   "source": [
    "library={}\n",
    "library[line] = {}\n",
    "labels=[\"Stage\",\"Industry\",\"Location\", \"Currency\", \"Founded\", \"Employees\", \"Incorporation Type\"]\n",
    "for i in range(0,7):\n",
    "    items=details[i].get_text().replace('\\n','')\n",
    "    label=labels[i]\n",
    "    library[line][label]=items\n",
    "print(library)"
   ]
  },
  {
   "cell_type": "code",
   "execution_count": 143,
   "metadata": {},
   "outputs": [],
   "source": [
    "import os, csv\n",
    "with open(\"data.csv\", \"w\") as toWrite:\n",
    "    writer = csv.writer(toWrite, delimiter=\",\")\n",
    "    writer.writerow([\"Name\",\"Website\",\"Stage\",\"Industry\",\"Location\", \"Currency\", \"Founded\", \"Employees\", \"Incorporation Type\"])\n",
    "    for a in lobbying.keys():\n",
    "        writer.writerow([a, web[0].a[\"href\"], library[a][\"Stage\"], library[a][\"Industry\"],library[a][\"Location\"],library[a][\"Currency\"],library[a][\"Founded\"],library[a][\"Employees\"],library[a][\"Incorporation Type\"]])"
   ]
  },
  {
   "cell_type": "code",
   "execution_count": null,
   "metadata": {
    "collapsed": true
   },
   "outputs": [],
   "source": []
  }
 ],
 "metadata": {
  "kernelspec": {
   "display_name": "Python 3",
   "language": "python",
   "name": "python3"
  },
  "language_info": {
   "codemirror_mode": {
    "name": "ipython",
    "version": 3
   },
   "file_extension": ".py",
   "mimetype": "text/x-python",
   "name": "python",
   "nbconvert_exporter": "python",
   "pygments_lexer": "ipython3",
   "version": "3.6.1"
  }
 },
 "nbformat": 4,
 "nbformat_minor": 2
}
